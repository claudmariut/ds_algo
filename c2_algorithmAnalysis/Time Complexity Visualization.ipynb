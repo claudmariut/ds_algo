{
 "cells": [
  {
   "cell_type": "markdown",
   "metadata": {},
   "source": [
    "# Time Complexity Visualization of Different Algorithms"
   ]
  },
  {
   "cell_type": "code",
   "execution_count": 2,
   "metadata": {},
   "outputs": [],
   "source": [
    "# Use module.showGraph() to represent graphs and module.showTimes() to represent times."
   ]
  },
  {
   "cell_type": "markdown",
   "metadata": {},
   "source": [
    "### Nesting Performance O(n^2)"
   ]
  },
  {
   "cell_type": "markdown",
   "metadata": {},
   "source": [
    "To demonstrate that two loops nested iterating through n is O(n^2)."
   ]
  },
  {
   "cell_type": "code",
   "execution_count": 3,
   "metadata": {},
   "outputs": [],
   "source": [
    "import nestingPerformance"
   ]
  },
  {
   "cell_type": "code",
   "execution_count": 5,
   "metadata": {
    "scrolled": true
   },
   "outputs": [
    {
     "data": {
      "image/png": "[encoded data removed]",
      "text/plain": [
       "<Figure size 432x288 with 1 Axes>"
      ]
     },
     "metadata": {
      "needs_background": "light"
     },
     "output_type": "display_data"
    },
    {
     "name": "stdout",
     "output_type": "stream",
     "text": [
      "Range: 10, Time: 0.002234 miliseconds\n",
      "Range: 30, Time: 0.010082 miliseconds\n",
      "Range: 50, Time: 0.022944 miliseconds\n",
      "Range: 70, Time: 0.040757 miliseconds\n",
      "Range: 90, Time: 0.063916 miliseconds\n",
      "Range: 110, Time: 0.092248 miliseconds\n",
      "Range: 130, Time: 0.124473 miliseconds\n",
      "Range: 150, Time: 0.162594 miliseconds\n",
      "Range: 170, Time: 0.206359 miliseconds\n",
      "Range: 190, Time: 0.254557 miliseconds\n",
      "Range: 210, Time: 0.308377 miliseconds\n",
      "Range: 230, Time: 0.366308 miliseconds\n",
      "Range: 250, Time: 0.429955 miliseconds\n",
      "Range: 270, Time: 0.546485 miliseconds\n",
      "Range: 290, Time: 0.680931 miliseconds\n",
      "Range: 310, Time: 0.829834 miliseconds\n",
      "Range: 330, Time: 0.990504 miliseconds\n",
      "Range: 350, Time: 1.163616 miliseconds\n",
      "Range: 370, Time: 1.354859 miliseconds\n",
      "Range: 390, Time: 1.555948 miliseconds\n",
      "Range: 410, Time: 1.852127 miliseconds\n",
      "Range: 430, Time: 2.011663 miliseconds\n",
      "Range: 450, Time: 2.237252 miliseconds\n",
      "Range: 470, Time: 2.488105 miliseconds\n",
      "Range: 490, Time: 2.750893 miliseconds\n",
      "Range: 510, Time: 3.030253 miliseconds\n",
      "Range: 530, Time: 3.316474 miliseconds\n",
      "Range: 550, Time: 3.624860 miliseconds\n",
      "Range: 570, Time: 3.934588 miliseconds\n",
      "Range: 590, Time: 4.270715 miliseconds\n",
      "Range: 610, Time: 4.610538 miliseconds\n",
      "Range: 630, Time: 4.967271 miliseconds\n",
      "Range: 650, Time: 5.337641 miliseconds\n",
      "Range: 670, Time: 5.722588 miliseconds\n",
      "Range: 690, Time: 6.114407 miliseconds\n",
      "Range: 710, Time: 6.530534 miliseconds\n",
      "Range: 730, Time: 6.947070 miliseconds\n",
      "Range: 750, Time: 7.379572 miliseconds\n",
      "Range: 770, Time: 7.976771 miliseconds\n",
      "Range: 790, Time: 8.298302 miliseconds\n",
      "Range: 810, Time: 8.839434 miliseconds\n",
      "Range: 830, Time: 9.254257 miliseconds\n",
      "Range: 850, Time: 9.749365 miliseconds\n",
      "Range: 870, Time: 10.274424 miliseconds\n",
      "Range: 890, Time: 10.790519 miliseconds\n",
      "Range: 910, Time: 11.334893 miliseconds\n",
      "Range: 930, Time: 11.883169 miliseconds\n",
      "Range: 950, Time: 12.450207 miliseconds\n",
      "Range: 970, Time: 13.108957 miliseconds\n",
      "Range: 990, Time: 13.629061 miliseconds\n"
     ]
    }
   ],
   "source": [
    "nestingPerformance.showGraph()\n",
    "nestingPerformance.showTimes()"
   ]
  },
  {
   "cell_type": "markdown",
   "metadata": {},
   "source": [
    "### Log Performance O(log n)"
   ]
  },
  {
   "cell_type": "markdown",
   "metadata": {},
   "source": [
    "Prove the 0(log n) performance in an operation. (Subtracting 2 from n untill n is = 0)"
   ]
  },
  {
   "cell_type": "code",
   "execution_count": 1,
   "metadata": {},
   "outputs": [],
   "source": [
    "import logPerformance"
   ]
  },
  {
   "cell_type": "code",
   "execution_count": 2,
   "metadata": {
    "scrolled": true
   },
   "outputs": [
    {
     "data": {
      "image/png": "[encoded data removed]",
      "text/plain": [
       "<Figure size 432x288 with 1 Axes>"
      ]
     },
     "metadata": {
      "needs_background": "light"
     },
     "output_type": "display_data"
    },
    {
     "name": "stdout",
     "output_type": "stream",
     "text": [
      "Range: 1000, Time: 0.000424 (ms)\n",
      "Range: 21000, Time: 0.000649 (ms)\n",
      "Range: 41000, Time: 0.000697 (ms)\n",
      "Range: 61000, Time: 0.000693 (ms)\n",
      "Range: 81000, Time: 0.000750 (ms)\n",
      "Range: 101000, Time: 0.000743 (ms)\n",
      "Range: 121000, Time: 0.000734 (ms)\n",
      "Range: 141000, Time: 0.000788 (ms)\n",
      "Range: 161000, Time: 0.000799 (ms)\n",
      "Range: 181000, Time: 0.000794 (ms)\n",
      "Range: 201000, Time: 0.000782 (ms)\n",
      "Range: 221000, Time: 0.000784 (ms)\n",
      "Range: 241000, Time: 0.000775 (ms)\n",
      "Range: 261000, Time: 0.000775 (ms)\n",
      "Range: 281000, Time: 0.000842 (ms)\n",
      "Range: 301000, Time: 0.000835 (ms)\n",
      "Range: 321000, Time: 0.000819 (ms)\n",
      "Range: 341000, Time: 0.000838 (ms)\n",
      "Range: 361000, Time: 0.000839 (ms)\n",
      "Range: 381000, Time: 0.000840 (ms)\n",
      "Range: 401000, Time: 0.000827 (ms)\n",
      "Range: 421000, Time: 0.000820 (ms)\n",
      "Range: 441000, Time: 0.000819 (ms)\n",
      "Range: 461000, Time: 0.000829 (ms)\n",
      "Range: 481000, Time: 0.000820 (ms)\n",
      "Range: 501000, Time: 0.000820 (ms)\n",
      "Range: 521000, Time: 0.000826 (ms)\n",
      "Range: 541000, Time: 0.000878 (ms)\n",
      "Range: 561000, Time: 0.000883 (ms)\n",
      "Range: 581000, Time: 0.000889 (ms)\n",
      "Range: 601000, Time: 0.000879 (ms)\n",
      "Range: 621000, Time: 0.000863 (ms)\n",
      "Range: 641000, Time: 0.000891 (ms)\n",
      "Range: 661000, Time: 0.000880 (ms)\n",
      "Range: 681000, Time: 0.000877 (ms)\n",
      "Range: 701000, Time: 0.000886 (ms)\n",
      "Range: 721000, Time: 0.000878 (ms)\n",
      "Range: 741000, Time: 0.000878 (ms)\n",
      "Range: 761000, Time: 0.000890 (ms)\n",
      "Range: 781000, Time: 0.000880 (ms)\n",
      "Range: 801000, Time: 0.000865 (ms)\n",
      "Range: 821000, Time: 0.000872 (ms)\n",
      "Range: 841000, Time: 0.000863 (ms)\n",
      "Range: 861000, Time: 0.000862 (ms)\n",
      "Range: 881000, Time: 0.000874 (ms)\n",
      "Range: 901000, Time: 0.000863 (ms)\n",
      "Range: 921000, Time: 0.000864 (ms)\n",
      "Range: 941000, Time: 0.000872 (ms)\n",
      "Range: 961000, Time: 0.000863 (ms)\n",
      "Range: 981000, Time: 0.000863 (ms)\n"
     ]
    }
   ],
   "source": [
    "logPerformance.showGraph()\n",
    "logPerformance.showTimes()"
   ]
  },
  {
   "cell_type": "markdown",
   "metadata": {},
   "source": [
    "### Pop Operation Comparison "
   ]
  },
  {
   "cell_type": "markdown",
   "metadata": {},
   "source": [
    "Comparing pop operation in list. .pop(k) is O(k), .pop() is O(1)."
   ]
  },
  {
   "cell_type": "code",
   "execution_count": 3,
   "metadata": {},
   "outputs": [],
   "source": [
    "import popComparison"
   ]
  },
  {
   "cell_type": "code",
   "execution_count": 4,
   "metadata": {
    "scrolled": true
   },
   "outputs": [
    {
     "data": {
      "image/png": "[encoded data removed]",
      "text/plain": [
       "<Figure size 432x288 with 1 Axes>"
      ]
     },
     "metadata": {
      "needs_background": "light"
     },
     "output_type": "display_data"
    },
    {
     "name": "stdout",
     "output_type": "stream",
     "text": [
      "Range: 10000, Pop(0): 0.003020, Pop(): 0.000074\n",
      "Range: 30000, Pop(0): 0.006657, Pop(): 0.000053\n",
      "Range: 50000, Pop(0): 0.013077, Pop(): 0.000048\n",
      "Range: 70000, Pop(0): 0.019348, Pop(): 0.000057\n",
      "Range: 90000, Pop(0): 0.018546, Pop(): 0.000036\n",
      "Range: 110000, Pop(0): 0.019475, Pop(): 0.000034\n",
      "Range: 130000, Pop(0): 0.023342, Pop(): 0.000039\n",
      "Range: 150000, Pop(0): 0.026627, Pop(): 0.000034\n",
      "Range: 170000, Pop(0): 0.030119, Pop(): 0.000035\n",
      "Range: 190000, Pop(0): 0.034009, Pop(): 0.000035\n",
      "Range: 210000, Pop(0): 0.037258, Pop(): 0.000035\n",
      "Range: 230000, Pop(0): 0.040947, Pop(): 0.000035\n",
      "Range: 250000, Pop(0): 0.044326, Pop(): 0.000036\n",
      "Range: 270000, Pop(0): 0.048117, Pop(): 0.000038\n",
      "Range: 290000, Pop(0): 0.051474, Pop(): 0.000037\n",
      "Range: 310000, Pop(0): 0.055039, Pop(): 0.000040\n",
      "Range: 330000, Pop(0): 0.058646, Pop(): 0.000035\n",
      "Range: 350000, Pop(0): 0.062169, Pop(): 0.000035\n",
      "Range: 370000, Pop(0): 0.065795, Pop(): 0.000035\n",
      "Range: 390000, Pop(0): 0.069351, Pop(): 0.000035\n",
      "Range: 410000, Pop(0): 0.072891, Pop(): 0.000035\n",
      "Range: 430000, Pop(0): 0.076402, Pop(): 0.000036\n",
      "Range: 450000, Pop(0): 0.081184, Pop(): 0.000038\n",
      "Range: 470000, Pop(0): 0.083599, Pop(): 0.000036\n",
      "Range: 490000, Pop(0): 0.118304, Pop(): 0.000040\n",
      "Range: 510000, Pop(0): 0.090827, Pop(): 0.000035\n",
      "Range: 530000, Pop(0): 0.096902, Pop(): 0.000036\n",
      "Range: 550000, Pop(0): 0.102088, Pop(): 0.000036\n",
      "Range: 570000, Pop(0): 0.111318, Pop(): 0.000035\n",
      "Range: 590000, Pop(0): 0.111958, Pop(): 0.000035\n",
      "Range: 610000, Pop(0): 0.108938, Pop(): 0.000036\n",
      "Range: 630000, Pop(0): 0.119866, Pop(): 0.000036\n",
      "Range: 650000, Pop(0): 0.126833, Pop(): 0.000037\n",
      "Range: 670000, Pop(0): 0.132062, Pop(): 0.000035\n",
      "Range: 690000, Pop(0): 0.136202, Pop(): 0.000036\n",
      "Range: 710000, Pop(0): 0.139745, Pop(): 0.000036\n",
      "Range: 730000, Pop(0): 0.158243, Pop(): 0.000035\n",
      "Range: 750000, Pop(0): 0.157095, Pop(): 0.000038\n",
      "Range: 770000, Pop(0): 0.163732, Pop(): 0.000086\n",
      "Range: 790000, Pop(0): 0.194700, Pop(): 0.000082\n",
      "Range: 810000, Pop(0): 0.235399, Pop(): 0.000066\n",
      "Range: 830000, Pop(0): 0.256227, Pop(): 0.000050\n",
      "Range: 850000, Pop(0): 0.231955, Pop(): 0.000045\n",
      "Range: 870000, Pop(0): 0.236224, Pop(): 0.000042\n",
      "Range: 890000, Pop(0): 0.282580, Pop(): 0.000046\n",
      "Range: 910000, Pop(0): 0.264356, Pop(): 0.000051\n",
      "Range: 930000, Pop(0): 0.269661, Pop(): 0.000046\n",
      "Range: 950000, Pop(0): 0.297241, Pop(): 0.000048\n",
      "Range: 970000, Pop(0): 0.320371, Pop(): 0.000050\n",
      "Range: 990000, Pop(0): 0.341530, Pop(): 0.000050\n"
     ]
    }
   ],
   "source": [
    "popComparison.showGraph()\n",
    "popComparison.showTimes()"
   ]
  },
  {
   "cell_type": "markdown",
   "metadata": {},
   "source": [
    "### Delete Operation Comparison\n",
    "##### Comparisons between list and dictionary data structures."
   ]
  },
  {
   "cell_type": "markdown",
   "metadata": {},
   "source": [
    "Experiment to prove that del operation in list is O(n), and del operator\n",
    "in dictionary is O(1)."
   ]
  },
  {
   "cell_type": "code",
   "execution_count": 1,
   "metadata": {},
   "outputs": [],
   "source": [
    "import delComparison"
   ]
  },
  {
   "cell_type": "code",
   "execution_count": 2,
   "metadata": {
    "scrolled": true
   },
   "outputs": [
    {
     "data": {
      "image/png": "[encoded data removed]",
      "text/plain": [
       "<Figure size 432x288 with 1 Axes>"
      ]
     },
     "metadata": {
      "needs_background": "light"
     },
     "output_type": "display_data"
    },
    {
     "name": "stdout",
     "output_type": "stream",
     "text": [
      "Range: 10000, List time: 0.001060, Dictionary time: 0.000299\n",
      "Range: 30000, List time: 0.002437, Dictionary time: 0.000305\n",
      "Range: 50000, List time: 0.004628, Dictionary time: 0.000330\n",
      "Range: 70000, List time: 0.006335, Dictionary time: 0.000344\n",
      "Range: 90000, List time: 0.008123, Dictionary time: 0.000359\n",
      "Range: 110000, List time: 0.009694, Dictionary time: 0.000368\n",
      "Range: 130000, List time: 0.011876, Dictionary time: 0.000404\n",
      "Range: 150000, List time: 0.013385, Dictionary time: 0.000426\n",
      "Range: 170000, List time: 0.015406, Dictionary time: 0.000374\n",
      "Range: 190000, List time: 0.017755, Dictionary time: 0.000371\n",
      "Range: 210000, List time: 0.019196, Dictionary time: 0.000369\n",
      "Range: 230000, List time: 0.021010, Dictionary time: 0.000383\n",
      "Range: 250000, List time: 0.022772, Dictionary time: 0.000408\n",
      "Range: 270000, List time: 0.024390, Dictionary time: 0.000384\n",
      "Range: 290000, List time: 0.026444, Dictionary time: 0.000370\n",
      "Range: 310000, List time: 0.028519, Dictionary time: 0.000368\n",
      "Range: 330000, List time: 0.029639, Dictionary time: 0.000400\n",
      "Range: 350000, List time: 0.031396, Dictionary time: 0.000403\n",
      "Range: 370000, List time: 0.032985, Dictionary time: 0.000381\n",
      "Range: 390000, List time: 0.035805, Dictionary time: 0.000378\n",
      "Range: 410000, List time: 0.037638, Dictionary time: 0.000408\n",
      "Range: 430000, List time: 0.038721, Dictionary time: 0.000414\n",
      "Range: 450000, List time: 0.042109, Dictionary time: 0.000418\n",
      "Range: 470000, List time: 0.045633, Dictionary time: 0.000480\n",
      "Range: 490000, List time: 0.046275, Dictionary time: 0.000427\n",
      "Range: 510000, List time: 0.046810, Dictionary time: 0.000406\n",
      "Range: 530000, List time: 0.049434, Dictionary time: 0.000455\n",
      "Range: 550000, List time: 0.072897, Dictionary time: 0.000525\n",
      "Range: 570000, List time: 0.052848, Dictionary time: 0.000416\n",
      "Range: 590000, List time: 0.052731, Dictionary time: 0.000432\n",
      "Range: 610000, List time: 0.055111, Dictionary time: 0.000415\n",
      "Range: 630000, List time: 0.059026, Dictionary time: 0.000407\n",
      "Range: 650000, List time: 0.081026, Dictionary time: 0.000583\n",
      "Range: 670000, List time: 0.063106, Dictionary time: 0.000404\n",
      "Range: 690000, List time: 0.065387, Dictionary time: 0.000420\n",
      "Range: 710000, List time: 0.064887, Dictionary time: 0.000615\n",
      "Range: 730000, List time: 0.074879, Dictionary time: 0.000407\n",
      "Range: 750000, List time: 0.112587, Dictionary time: 0.000400\n",
      "Range: 770000, List time: 0.073054, Dictionary time: 0.000382\n",
      "Range: 790000, List time: 0.082625, Dictionary time: 0.000399\n",
      "Range: 810000, List time: 0.078278, Dictionary time: 0.000408\n",
      "Range: 830000, List time: 0.084698, Dictionary time: 0.000401\n",
      "Range: 850000, List time: 0.090925, Dictionary time: 0.000404\n",
      "Range: 870000, List time: 0.093169, Dictionary time: 0.000436\n",
      "Range: 890000, List time: 0.096748, Dictionary time: 0.000432\n",
      "Range: 910000, List time: 0.097471, Dictionary time: 0.000425\n",
      "Range: 930000, List time: 0.101611, Dictionary time: 0.000425\n",
      "Range: 950000, List time: 0.157016, Dictionary time: 0.000421\n",
      "Range: 970000, List time: 0.107624, Dictionary time: 0.000420\n",
      "Range: 990000, List time: 0.164377, Dictionary time: 0.000409\n"
     ]
    }
   ],
   "source": [
    "delComparison.showGraph()\n",
    "delComparison.showTimes()"
   ]
  },
  {
   "cell_type": "markdown",
   "metadata": {},
   "source": [
    "### Contains-in Operation Comparison"
   ]
  },
  {
   "cell_type": "markdown",
   "metadata": {},
   "source": [
    "Contains(in) operation List vs Dictionaries (as keys)\n",
    "To prove that contain operation in list is O(n), and contain operation in\n",
    "Dictionary is O(1)."
   ]
  },
  {
   "cell_type": "code",
   "execution_count": 3,
   "metadata": {},
   "outputs": [],
   "source": [
    "import containsComparison"
   ]
  },
  {
   "cell_type": "code",
   "execution_count": 11,
   "metadata": {
    "scrolled": true
   },
   "outputs": [
    {
     "data": {
      "image/png": "[encoded data removed]",
      "text/plain": [
       "<Figure size 432x288 with 1 Axes>"
      ]
     },
     "metadata": {
      "needs_background": "light"
     },
     "output_type": "display_data"
    },
    {
     "name": "stdout",
     "output_type": "stream",
     "text": [
      "Range : 10000, List time:, 0.086002, Dic time: 0.000454 (msec).\n",
      "Range : 30000, List time:, 0.141882, Dic time: 0.000456 (msec).\n",
      "Range : 50000, List time:, 0.227525, Dic time: 0.000517 (msec).\n",
      "Range : 70000, List time:, 0.317756, Dic time: 0.000551 (msec).\n",
      "Range : 90000, List time:, 0.421065, Dic time: 0.000566 (msec).\n",
      "Range : 110000, List time:, 0.524680, Dic time: 0.000555 (msec).\n",
      "Range : 130000, List time:, 0.601098, Dic time: 0.000508 (msec).\n",
      "Range : 150000, List time:, 0.708966, Dic time: 0.000637 (msec).\n",
      "Range : 170000, List time:, 0.774662, Dic time: 0.000549 (msec).\n",
      "Range : 190000, List time:, 0.916657, Dic time: 0.000560 (msec).\n",
      "Range : 210000, List time:, 1.036344, Dic time: 0.000575 (msec).\n",
      "Range : 230000, List time:, 1.119049, Dic time: 0.000552 (msec).\n",
      "Range : 250000, List time:, 1.277917, Dic time: 0.000556 (msec).\n",
      "Range : 270000, List time:, 1.391210, Dic time: 0.000624 (msec).\n",
      "Range : 290000, List time:, 1.501500, Dic time: 0.000604 (msec).\n",
      "Range : 310000, List time:, 1.747946, Dic time: 0.000606 (msec).\n",
      "Range : 330000, List time:, 1.840664, Dic time: 0.000634 (msec).\n",
      "Range : 350000, List time:, 1.975162, Dic time: 0.000655 (msec).\n",
      "Range : 370000, List time:, 2.021160, Dic time: 0.000648 (msec).\n",
      "Range : 390000, List time:, 2.170722, Dic time: 0.000654 (msec).\n",
      "Range : 410000, List time:, 2.322291, Dic time: 0.000690 (msec).\n",
      "Range : 430000, List time:, 2.782807, Dic time: 0.000727 (msec).\n",
      "Range : 450000, List time:, 2.805889, Dic time: 0.000700 (msec).\n",
      "Range : 470000, List time:, 3.004918, Dic time: 0.000710 (msec).\n",
      "Range : 490000, List time:, 3.133970, Dic time: 0.000676 (msec).\n",
      "Range : 510000, List time:, 3.269771, Dic time: 0.000671 (msec).\n",
      "Range : 530000, List time:, 3.344140, Dic time: 0.000765 (msec).\n",
      "Range : 550000, List time:, 3.490789, Dic time: 0.000742 (msec).\n",
      "Range : 570000, List time:, 3.464763, Dic time: 0.000725 (msec).\n",
      "Range : 590000, List time:, 3.732313, Dic time: 0.000747 (msec).\n",
      "Range : 610000, List time:, 3.902610, Dic time: 0.000739 (msec).\n",
      "Range : 630000, List time:, 3.998338, Dic time: 0.000751 (msec).\n",
      "Range : 650000, List time:, 4.438788, Dic time: 0.000731 (msec).\n",
      "Range : 670000, List time:, 4.669072, Dic time: 0.000746 (msec).\n",
      "Range : 690000, List time:, 5.169630, Dic time: 0.000807 (msec).\n",
      "Range : 710000, List time:, 4.769043, Dic time: 0.000727 (msec).\n",
      "Range : 730000, List time:, 4.841542, Dic time: 0.000739 (msec).\n",
      "Range : 750000, List time:, 4.776957, Dic time: 0.000725 (msec).\n",
      "Range : 770000, List time:, 5.632524, Dic time: 0.000764 (msec).\n",
      "Range : 790000, List time:, 5.970784, Dic time: 0.000735 (msec).\n",
      "Range : 810000, List time:, 4.994314, Dic time: 0.000697 (msec).\n",
      "Range : 830000, List time:, 5.421196, Dic time: 0.000711 (msec).\n",
      "Range : 850000, List time:, 5.417350, Dic time: 0.000700 (msec).\n",
      "Range : 870000, List time:, 5.525293, Dic time: 0.000707 (msec).\n",
      "Range : 890000, List time:, 5.579099, Dic time: 0.000700 (msec).\n",
      "Range : 910000, List time:, 5.668805, Dic time: 0.000742 (msec).\n",
      "Range : 930000, List time:, 5.957987, Dic time: 0.000707 (msec).\n",
      "Range : 950000, List time:, 5.989630, Dic time: 0.000697 (msec).\n",
      "Range : 970000, List time:, 5.750000, Dic time: 0.000700 (msec).\n",
      "Range : 990000, List time:, 6.348487, Dic time: 0.000718 (msec).\n"
     ]
    }
   ],
   "source": [
    "containsComparison.showGraph()\n",
    "containsComparison.showTimes()"
   ]
  },
  {
   "cell_type": "markdown",
   "metadata": {},
   "source": [
    "### Anagram Comparison"
   ]
  },
  {
   "cell_type": "code",
   "execution_count": 13,
   "metadata": {},
   "outputs": [],
   "source": [
    "# Checking Off. O(n^2)\n",
    "# Sorting and compare. Looks like O(n), but sorting two list, can be either O(n^2) or O(nlogn)\n",
    "# Brute Force. O(n!)\n",
    "# Count and Compare. O(n)"
   ]
  },
  {
   "cell_type": "code",
   "execution_count": 15,
   "metadata": {},
   "outputs": [],
   "source": [
    "import anagramComparison"
   ]
  },
  {
   "cell_type": "code",
   "execution_count": 16,
   "metadata": {},
   "outputs": [
    {
     "data": {
      "image/png": "[encoded data removed]",
      "text/plain": [
       "<Figure size 432x288 with 1 Axes>"
      ]
     },
     "metadata": {
      "needs_background": "light"
     },
     "output_type": "display_data"
    },
    {
     "name": "stdout",
     "output_type": "stream",
     "text": [
      "Checking Off = 0.009448083999814116\n",
      "Sort and Compare = 0.0033879140000863117\n",
      "Brute Force = 0.161014857999362\n",
      "Count and Compare = 0.003624690999458835\n"
     ]
    }
   ],
   "source": [
    "anagramComparison.showGraph()\n",
    "anagramComparison.showTimes()"
   ]
  },
  {
   "cell_type": "markdown",
   "metadata": {},
   "source": [
    "### Experiment. Create an algorithm to find the smallest kth number given a random list."
   ]
  },
  {
   "cell_type": "code",
   "execution_count": 18,
   "metadata": {},
   "outputs": [],
   "source": [
    "# First alrogithm is linear O(n) using iteration.\n",
    "# Second algorithm is using min() function built-in python. Also O(n)\n",
    "# Third algorithm is a big improvement using sort algorithm and then index assignment. O(nlogn)"
   ]
  },
  {
   "cell_type": "code",
   "execution_count": 19,
   "metadata": {},
   "outputs": [],
   "source": [
    "import findSmallest"
   ]
  },
  {
   "cell_type": "code",
   "execution_count": 20,
   "metadata": {
    "scrolled": true
   },
   "outputs": [
    {
     "data": {
      "image/png": "[encoded data removed]",
      "text/plain": [
       "<Figure size 432x288 with 1 Axes>"
      ]
     },
     "metadata": {
      "needs_background": "light"
     },
     "output_type": "display_data"
    },
    {
     "name": "stdout",
     "output_type": "stream",
     "text": [
      "Range: 1000, Time Algo: 0.046349 (ms), Time b-in: 0.016866, Time Algo2: 0.004060\n",
      "Range: 1200, Time Algo: 0.022483 (ms), Time b-in: 0.014510, Time Algo2: 0.003953\n",
      "Range: 1400, Time Algo: 0.025415 (ms), Time b-in: 0.016919, Time Algo2: 0.004750\n",
      "Range: 1600, Time Algo: 0.029105 (ms), Time b-in: 0.019379, Time Algo2: 0.005249\n",
      "Range: 1800, Time Algo: 0.032701 (ms), Time b-in: 0.021756, Time Algo2: 0.005823\n",
      "Range: 2000, Time Algo: 0.036385 (ms), Time b-in: 0.024177, Time Algo2: 0.006587\n",
      "Range: 2200, Time Algo: 0.040034 (ms), Time b-in: 0.026532, Time Algo2: 0.007055\n",
      "Range: 2400, Time Algo: 0.043586 (ms), Time b-in: 0.029027, Time Algo2: 0.008080\n",
      "Range: 2600, Time Algo: 0.047616 (ms), Time b-in: 0.031458, Time Algo2: 0.008466\n",
      "Range: 2800, Time Algo: 0.052727 (ms), Time b-in: 0.033839, Time Algo2: 0.009202\n",
      "Range: 3000, Time Algo: 0.054508 (ms), Time b-in: 0.036246, Time Algo2: 0.009705\n",
      "Range: 3200, Time Algo: 0.058039 (ms), Time b-in: 0.038618, Time Algo2: 0.011030\n",
      "Range: 3400, Time Algo: 0.068305 (ms), Time b-in: 0.046974, Time Algo2: 0.012724\n",
      "Range: 3600, Time Algo: 0.077617 (ms), Time b-in: 0.045503, Time Algo2: 0.012418\n",
      "Range: 3800, Time Algo: 0.072434 (ms), Time b-in: 0.046090, Time Algo2: 0.012954\n",
      "Range: 4000, Time Algo: 0.072803 (ms), Time b-in: 0.048315, Time Algo2: 0.013969\n",
      "Range: 4200, Time Algo: 0.076516 (ms), Time b-in: 0.050605, Time Algo2: 0.014342\n",
      "Range: 4400, Time Algo: 0.080065 (ms), Time b-in: 0.053181, Time Algo2: 0.015816\n",
      "Range: 4600, Time Algo: 0.083810 (ms), Time b-in: 0.055574, Time Algo2: 0.016265\n",
      "Range: 4800, Time Algo: 0.087141 (ms), Time b-in: 0.058474, Time Algo2: 0.017154\n",
      "Range: 5000, Time Algo: 0.109104 (ms), Time b-in: 0.062171, Time Algo2: 0.017892\n",
      "Range: 5200, Time Algo: 0.095091 (ms), Time b-in: 0.063441, Time Algo2: 0.020762\n",
      "Range: 5400, Time Algo: 0.099571 (ms), Time b-in: 0.065838, Time Algo2: 0.019967\n",
      "Range: 5600, Time Algo: 0.102929 (ms), Time b-in: 0.078872, Time Algo2: 0.020610\n",
      "Range: 5800, Time Algo: 0.105738 (ms), Time b-in: 0.070142, Time Algo2: 0.021495\n",
      "Range: 6000, Time Algo: 0.109479 (ms), Time b-in: 0.072945, Time Algo2: 0.022436\n",
      "Range: 6200, Time Algo: 0.119761 (ms), Time b-in: 0.075060, Time Algo2: 0.023462\n",
      "Range: 6400, Time Algo: 0.117013 (ms), Time b-in: 0.077678, Time Algo2: 0.024636\n",
      "Range: 6600, Time Algo: 0.120564 (ms), Time b-in: 0.082748, Time Algo2: 0.024801\n",
      "Range: 6800, Time Algo: 0.126566 (ms), Time b-in: 0.084318, Time Algo2: 0.028422\n",
      "Range: 7000, Time Algo: 0.133458 (ms), Time b-in: 0.084926, Time Algo2: 0.026544\n",
      "Range: 7200, Time Algo: 0.131682 (ms), Time b-in: 0.090385, Time Algo2: 0.028033\n",
      "Range: 7400, Time Algo: 0.138276 (ms), Time b-in: 0.089976, Time Algo2: 0.031420\n",
      "Range: 7600, Time Algo: 0.139100 (ms), Time b-in: 0.095290, Time Algo2: 0.036630\n",
      "Range: 7800, Time Algo: 0.148361 (ms), Time b-in: 0.099758, Time Algo2: 0.033944\n",
      "Range: 8000, Time Algo: 0.147679 (ms), Time b-in: 0.097400, Time Algo2: 0.031651\n",
      "Range: 8200, Time Algo: 0.155638 (ms), Time b-in: 0.099672, Time Algo2: 0.032147\n",
      "Range: 8400, Time Algo: 0.153945 (ms), Time b-in: 0.101983, Time Algo2: 0.033603\n",
      "Range: 8600, Time Algo: 0.164054 (ms), Time b-in: 0.105204, Time Algo2: 0.036145\n",
      "Range: 8800, Time Algo: 0.163969 (ms), Time b-in: 0.106820, Time Algo2: 0.035486\n",
      "Range: 9000, Time Algo: 0.164267 (ms), Time b-in: 0.109129, Time Algo2: 0.036221\n",
      "Range: 9200, Time Algo: 0.174065 (ms), Time b-in: 0.111686, Time Algo2: 0.037553\n",
      "Range: 9400, Time Algo: 0.174861 (ms), Time b-in: 0.118733, Time Algo2: 0.038274\n",
      "Range: 9600, Time Algo: 0.182433 (ms), Time b-in: 0.116507, Time Algo2: 0.039572\n",
      "Range: 9800, Time Algo: 0.178691 (ms), Time b-in: 0.125072, Time Algo2: 0.040375\n",
      "Range: 10000, Time Algo: 0.191513 (ms), Time b-in: 0.123632, Time Algo2: 0.041731\n"
     ]
    }
   ],
   "source": [
    "findSmallest.showGraph()\n",
    "findSmallest.showTimes()"
   ]
  },
  {
   "cell_type": "markdown",
   "metadata": {},
   "source": [
    "### Resources"
   ]
  },
  {
   "cell_type": "markdown",
   "metadata": {},
   "source": [
    "https://wiki.python.org/moin/TimeComplexity"
   ]
  }
 ],
 "metadata": {
  "kernelspec": {
   "display_name": "Python 3",
   "language": "python",
   "name": "python3"
  },
  "language_info": {
   "codemirror_mode": {
    "name": "ipython",
    "version": 3
   },
   "file_extension": ".py",
   "mimetype": "text/x-python",
   "name": "python",
   "nbconvert_exporter": "python",
   "pygments_lexer": "ipython3",
   "version": "3.8.3"
  }
 },
 "nbformat": 4,
 "nbformat_minor": 4
}
